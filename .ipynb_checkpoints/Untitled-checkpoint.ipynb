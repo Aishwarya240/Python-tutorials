{
 "cells": [
  {
   "cell_type": "markdown",
   "id": "37e5000f",
   "metadata": {},
   "source": [
    "# Python tutorial"
   ]
  },
  {
   "cell_type": "code",
   "execution_count": 1,
   "id": "526a2e55",
   "metadata": {},
   "outputs": [
    {
     "name": "stdout",
     "output_type": "stream",
     "text": [
      "hello world\n"
     ]
    }
   ],
   "source": [
    "print(\"hello world\")"
   ]
  },
  {
   "cell_type": "markdown",
   "id": "eb504ee6",
   "metadata": {},
   "source": [
    "### declaring variable\n",
    "- string variable declaring\n",
    "- integer variable declaring\n",
    "- floating variable declaring\n",
    "- boolean variable declaring"
   ]
  },
  {
   "cell_type": "code",
   "execution_count": 2,
   "id": "159ea570",
   "metadata": {},
   "outputs": [],
   "source": [
    "a=\"hello\"\n",
    "b=\"world\""
   ]
  },
  {
   "cell_type": "code",
   "execution_count": 3,
   "id": "b1199451",
   "metadata": {},
   "outputs": [
    {
     "name": "stdout",
     "output_type": "stream",
     "text": [
      "hello world\n"
     ]
    }
   ],
   "source": [
    "print(a,b)"
   ]
  },
  {
   "cell_type": "code",
   "execution_count": 4,
   "id": "42496417",
   "metadata": {},
   "outputs": [],
   "source": [
    "a = 3 \n",
    "b = 5"
   ]
  },
  {
   "cell_type": "code",
   "execution_count": 5,
   "id": "4b27fa05",
   "metadata": {},
   "outputs": [
    {
     "name": "stdout",
     "output_type": "stream",
     "text": [
      "3 5\n"
     ]
    }
   ],
   "source": [
    "print(a,b)"
   ]
  },
  {
   "cell_type": "code",
   "execution_count": 6,
   "id": "f3acf07d",
   "metadata": {},
   "outputs": [],
   "source": [
    "a = 3.4\n",
    "b = 2.0"
   ]
  },
  {
   "cell_type": "code",
   "execution_count": 7,
   "id": "08b3f2f1",
   "metadata": {},
   "outputs": [
    {
     "name": "stdout",
     "output_type": "stream",
     "text": [
      "3.4 2.0\n"
     ]
    }
   ],
   "source": [
    "print(a,b)"
   ]
  },
  {
   "cell_type": "code",
   "execution_count": 8,
   "id": "34346b4a",
   "metadata": {},
   "outputs": [],
   "source": [
    " a = True\n",
    " b = False   "
   ]
  },
  {
   "cell_type": "code",
   "execution_count": 9,
   "id": "b3ad8ab7",
   "metadata": {},
   "outputs": [
    {
     "name": "stdout",
     "output_type": "stream",
     "text": [
      "True False\n"
     ]
    }
   ],
   "source": [
    "print(a,b)"
   ]
  },
  {
   "cell_type": "markdown",
   "id": "40ea80cc",
   "metadata": {},
   "source": [
    "### copying variable values "
   ]
  },
  {
   "cell_type": "code",
   "execution_count": 10,
   "id": "f67ef222",
   "metadata": {},
   "outputs": [],
   "source": [
    "a = 10\n",
    "b = a"
   ]
  },
  {
   "cell_type": "code",
   "execution_count": 11,
   "id": "c96849c7",
   "metadata": {},
   "outputs": [
    {
     "name": "stdout",
     "output_type": "stream",
     "text": [
      "10 10\n"
     ]
    }
   ],
   "source": [
    "print(a,b)"
   ]
  },
  {
   "cell_type": "code",
   "execution_count": 12,
   "id": "12f3daba",
   "metadata": {},
   "outputs": [],
   "source": [
    "a = 11\n",
    "\n"
   ]
  },
  {
   "cell_type": "code",
   "execution_count": 13,
   "id": "9aa79b68",
   "metadata": {},
   "outputs": [
    {
     "name": "stdout",
     "output_type": "stream",
     "text": [
      "11 10\n"
     ]
    }
   ],
   "source": [
    "print(a,b)"
   ]
  },
  {
   "cell_type": "code",
   "execution_count": 14,
   "id": "a32e9e34",
   "metadata": {},
   "outputs": [],
   "source": [
    "a = \"hello\"\n",
    "b = a"
   ]
  },
  {
   "cell_type": "code",
   "execution_count": 15,
   "id": "c76fd8d3",
   "metadata": {},
   "outputs": [
    {
     "name": "stdout",
     "output_type": "stream",
     "text": [
      "hello hello\n"
     ]
    }
   ],
   "source": [
    "print(a,b)"
   ]
  },
  {
   "cell_type": "code",
   "execution_count": 16,
   "id": "31fc2440",
   "metadata": {},
   "outputs": [],
   "source": [
    "a =\"world\""
   ]
  },
  {
   "cell_type": "code",
   "execution_count": 17,
   "id": "ac95923a",
   "metadata": {},
   "outputs": [
    {
     "name": "stdout",
     "output_type": "stream",
     "text": [
      "world hello\n"
     ]
    }
   ],
   "source": [
    "print(a,b)"
   ]
  },
  {
   "cell_type": "markdown",
   "id": "abddc89f",
   "metadata": {},
   "source": [
    "### Data structures in python \n",
    "- List \n",
    "- Tuple\n",
    "- Set\n",
    "- Dictionary\n"
   ]
  },
  {
   "cell_type": "code",
   "execution_count": 82,
   "id": "30b4bc6d",
   "metadata": {},
   "outputs": [],
   "source": [
    " a = [1, 2, 3, 4, 5, 6, 7, 8, 9, 10]"
   ]
  },
  {
   "cell_type": "code",
   "execution_count": 83,
   "id": "1dd92339",
   "metadata": {},
   "outputs": [
    {
     "name": "stdout",
     "output_type": "stream",
     "text": [
      "[1, 2, 3, 4, 5, 6, 7, 8, 9, 10]\n"
     ]
    }
   ],
   "source": [
    "print(a)"
   ]
  },
  {
   "cell_type": "code",
   "execution_count": 20,
   "id": "09e09d8e",
   "metadata": {},
   "outputs": [],
   "source": [
    "b = [\"cat\", \"dog\", \"peacock\"]"
   ]
  },
  {
   "cell_type": "code",
   "execution_count": 21,
   "id": "973ad9a1",
   "metadata": {},
   "outputs": [
    {
     "name": "stdout",
     "output_type": "stream",
     "text": [
      "['cat', 'dog', 'peacock']\n"
     ]
    }
   ],
   "source": [
    "print(b)"
   ]
  },
  {
   "cell_type": "code",
   "execution_count": 22,
   "id": "f2ba81fd",
   "metadata": {},
   "outputs": [
    {
     "name": "stdout",
     "output_type": "stream",
     "text": [
      "5\n"
     ]
    }
   ],
   "source": [
    "print(a[4])"
   ]
  },
  {
   "cell_type": "code",
   "execution_count": 23,
   "id": "3a83d0a7",
   "metadata": {},
   "outputs": [
    {
     "name": "stdout",
     "output_type": "stream",
     "text": [
      "dog\n"
     ]
    }
   ],
   "source": [
    "print(b[1])\n"
   ]
  },
  {
   "cell_type": "code",
   "execution_count": 24,
   "id": "b1f59be5",
   "metadata": {},
   "outputs": [
    {
     "name": "stdout",
     "output_type": "stream",
     "text": [
      "10\n"
     ]
    }
   ],
   "source": [
    "print(len(a))"
   ]
  },
  {
   "cell_type": "code",
   "execution_count": 25,
   "id": "b6a6e9e6",
   "metadata": {},
   "outputs": [
    {
     "name": "stdout",
     "output_type": "stream",
     "text": [
      "3\n"
     ]
    }
   ],
   "source": [
    "print(len(b))"
   ]
  },
  {
   "cell_type": "code",
   "execution_count": 26,
   "id": "f35ddf4c",
   "metadata": {},
   "outputs": [
    {
     "name": "stdout",
     "output_type": "stream",
     "text": [
      "[1, 2, 3, 4]\n"
     ]
    }
   ],
   "source": [
    "print(a[0:4])"
   ]
  },
  {
   "cell_type": "code",
   "execution_count": 27,
   "id": "6f949630",
   "metadata": {},
   "outputs": [
    {
     "name": "stdout",
     "output_type": "stream",
     "text": [
      "[2, 3, 4, 5]\n"
     ]
    }
   ],
   "source": [
    "print(a[1:5])"
   ]
  },
  {
   "cell_type": "code",
   "execution_count": 28,
   "id": "550aafe6",
   "metadata": {},
   "outputs": [
    {
     "name": "stdout",
     "output_type": "stream",
     "text": [
      "['dog', 'peacock']\n"
     ]
    }
   ],
   "source": [
    "print(b[1:3])"
   ]
  },
  {
   "cell_type": "code",
   "execution_count": 29,
   "id": "b2b55bc5",
   "metadata": {},
   "outputs": [
    {
     "name": "stdout",
     "output_type": "stream",
     "text": [
      "[10, 9, 8, 7, 6, 5, 4, 3, 2, 1]\n"
     ]
    }
   ],
   "source": [
    "print(a[::-1])"
   ]
  },
  {
   "cell_type": "code",
   "execution_count": 30,
   "id": "3363881c",
   "metadata": {},
   "outputs": [
    {
     "name": "stdout",
     "output_type": "stream",
     "text": [
      "10\n"
     ]
    }
   ],
   "source": [
    "print(a[-1])"
   ]
  },
  {
   "cell_type": "code",
   "execution_count": 31,
   "id": "0ac37af7",
   "metadata": {},
   "outputs": [
    {
     "name": "stdout",
     "output_type": "stream",
     "text": [
      "9\n"
     ]
    }
   ],
   "source": [
    "print(a[-2])"
   ]
  },
  {
   "cell_type": "code",
   "execution_count": 37,
   "id": "d24beab9",
   "metadata": {},
   "outputs": [
    {
     "name": "stdout",
     "output_type": "stream",
     "text": [
      "peacock\n"
     ]
    }
   ],
   "source": [
    "print(b[-1])"
   ]
  },
  {
   "cell_type": "code",
   "execution_count": 40,
   "id": "18bc77ee",
   "metadata": {},
   "outputs": [
    {
     "name": "stdout",
     "output_type": "stream",
     "text": [
      "55\n"
     ]
    }
   ],
   "source": [
    "print(sum(a))"
   ]
  },
  {
   "cell_type": "code",
   "execution_count": 42,
   "id": "8cef440e",
   "metadata": {},
   "outputs": [
    {
     "name": "stdout",
     "output_type": "stream",
     "text": [
      "15\n"
     ]
    }
   ],
   "source": [
    "print(sum(a[:5]))"
   ]
  },
  {
   "cell_type": "code",
   "execution_count": 43,
   "id": "8ca4e079",
   "metadata": {},
   "outputs": [
    {
     "name": "stdout",
     "output_type": "stream",
     "text": [
      "10\n"
     ]
    }
   ],
   "source": [
    "print(max(a))"
   ]
  },
  {
   "cell_type": "code",
   "execution_count": 46,
   "id": "22bdaca6",
   "metadata": {},
   "outputs": [
    {
     "name": "stdout",
     "output_type": "stream",
     "text": [
      "1\n"
     ]
    }
   ],
   "source": [
    "print(min(a))"
   ]
  },
  {
   "cell_type": "code",
   "execution_count": 48,
   "id": "b8899163",
   "metadata": {},
   "outputs": [
    {
     "name": "stdout",
     "output_type": "stream",
     "text": [
      "Max value: peacock, Min value: cat\n"
     ]
    }
   ],
   "source": [
    "print(f\"Max value: {max(b)}, Min value: {min(b)}\")"
   ]
  },
  {
   "cell_type": "code",
   "execution_count": 52,
   "id": "3cfdc486",
   "metadata": {},
   "outputs": [],
   "source": [
    "# print(sum(b))\n",
    "\n",
    "# int value only"
   ]
  },
  {
   "cell_type": "code",
   "execution_count": 53,
   "id": "2289fdec",
   "metadata": {},
   "outputs": [
    {
     "name": "stdout",
     "output_type": "stream",
     "text": [
      "<class 'str'>\n"
     ]
    }
   ],
   "source": [
    "print(type(b[0]))"
   ]
  },
  {
   "cell_type": "code",
   "execution_count": 57,
   "id": "ac0bf9bb",
   "metadata": {},
   "outputs": [],
   "source": [
    "# multiple datatype list\n",
    "\n",
    "c = [1, 2, 3, \"cat\", \"dog\", 4, 5, 2.467, 4.56]"
   ]
  },
  {
   "cell_type": "code",
   "execution_count": 56,
   "id": "d88b3e1c",
   "metadata": {},
   "outputs": [
    {
     "name": "stdout",
     "output_type": "stream",
     "text": [
      "[1, 2, 3, 'cat', 'dog', 4, 5, 2.467, 4.56]\n"
     ]
    }
   ],
   "source": [
    "print(c)"
   ]
  },
  {
   "cell_type": "code",
   "execution_count": 66,
   "id": "3ec8410d",
   "metadata": {},
   "outputs": [],
   "source": [
    "# merging 2 lists a, b\n",
    "d = [a, b]"
   ]
  },
  {
   "cell_type": "code",
   "execution_count": 67,
   "id": "ef86ea22",
   "metadata": {},
   "outputs": [
    {
     "name": "stdout",
     "output_type": "stream",
     "text": [
      "[[1, 2, 3, 4, 5, 6, 7, 8, 9, 10], ['cat', 'dog', 'peacock']]\n"
     ]
    }
   ],
   "source": [
    "print(d)"
   ]
  },
  {
   "cell_type": "code",
   "execution_count": 68,
   "id": "6d6cf292",
   "metadata": {},
   "outputs": [
    {
     "name": "stdout",
     "output_type": "stream",
     "text": [
      "[1, 2, 3, 4, 5, 6, 7, 8, 9, 10]\n"
     ]
    }
   ],
   "source": [
    "print(d[0])"
   ]
  },
  {
   "cell_type": "code",
   "execution_count": 69,
   "id": "92d98241",
   "metadata": {},
   "outputs": [
    {
     "name": "stdout",
     "output_type": "stream",
     "text": [
      "['cat', 'dog', 'peacock']\n"
     ]
    }
   ],
   "source": [
    "print(d[1])"
   ]
  },
  {
   "cell_type": "code",
   "execution_count": 70,
   "id": "cb563118",
   "metadata": {},
   "outputs": [
    {
     "name": "stdout",
     "output_type": "stream",
     "text": [
      "1\n"
     ]
    }
   ],
   "source": [
    "print(d[0][0])"
   ]
  },
  {
   "cell_type": "code",
   "execution_count": 71,
   "id": "f74514dd",
   "metadata": {},
   "outputs": [
    {
     "name": "stdout",
     "output_type": "stream",
     "text": [
      "6\n"
     ]
    }
   ],
   "source": [
    "print(d[0][5])"
   ]
  },
  {
   "cell_type": "code",
   "execution_count": 72,
   "id": "c0a39894",
   "metadata": {},
   "outputs": [
    {
     "name": "stdout",
     "output_type": "stream",
     "text": [
      "dog\n"
     ]
    }
   ],
   "source": [
    "print(d[1][1])"
   ]
  },
  {
   "cell_type": "code",
   "execution_count": 73,
   "id": "27ff4177",
   "metadata": {},
   "outputs": [
    {
     "name": "stdout",
     "output_type": "stream",
     "text": [
      "[1, 2, 3, 4, 5, 6, 7, 8, 9, 10, 'cat', 'dog', 'peacock']\n"
     ]
    }
   ],
   "source": [
    "print(a+b)"
   ]
  },
  {
   "cell_type": "code",
   "execution_count": 86,
   "id": "2e3c33c5",
   "metadata": {},
   "outputs": [],
   "source": [
    "a = [1, 2, 3]\n",
    "a.append([4, 5])"
   ]
  },
  {
   "cell_type": "code",
   "execution_count": 87,
   "id": "251eb260",
   "metadata": {},
   "outputs": [
    {
     "name": "stdout",
     "output_type": "stream",
     "text": [
      "[1, 2, 3, [4, 5]]\n"
     ]
    }
   ],
   "source": [
    "print(a)"
   ]
  },
  {
   "cell_type": "code",
   "execution_count": 88,
   "id": "319188af",
   "metadata": {},
   "outputs": [
    {
     "data": {
      "text/plain": [
       "[4, 5]"
      ]
     },
     "execution_count": 88,
     "metadata": {},
     "output_type": "execute_result"
    }
   ],
   "source": [
    "a[3]"
   ]
  },
  {
   "cell_type": "code",
   "execution_count": 95,
   "id": "47dca792",
   "metadata": {},
   "outputs": [],
   "source": [
    "a = [2, 3, 4, 5] \n",
    "b = [6, 7, 8, 9]\n",
    "a.append(b)"
   ]
  },
  {
   "cell_type": "code",
   "execution_count": 96,
   "id": "4ffce2ad",
   "metadata": {},
   "outputs": [
    {
     "name": "stdout",
     "output_type": "stream",
     "text": [
      "[2, 3, 4, 5, [6, 7, 8, 9]]\n"
     ]
    }
   ],
   "source": [
    "print(a)"
   ]
  },
  {
   "cell_type": "code",
   "execution_count": 97,
   "id": "bc6d492b",
   "metadata": {},
   "outputs": [
    {
     "name": "stdout",
     "output_type": "stream",
     "text": [
      "[2, 3, 4, 5, 6, 7, 8, 9]\n"
     ]
    }
   ],
   "source": [
    "\n",
    "a = [2, 3, 4, 5] \n",
    "b = [6, 7, 8, 9]\n",
    "print(a+b)"
   ]
  },
  {
   "cell_type": "code",
   "execution_count": 98,
   "id": "04347899",
   "metadata": {},
   "outputs": [
    {
     "name": "stdout",
     "output_type": "stream",
     "text": [
      "[[2, 3, 4, 5], [6, 7, 8, 9]]\n"
     ]
    }
   ],
   "source": [
    "a = [2, 3, 4, 5] \n",
    "b = [6, 7, 8, 9]\n",
    "print([a, b])"
   ]
  },
  {
   "cell_type": "code",
   "execution_count": null,
   "id": "d187565d",
   "metadata": {},
   "outputs": [],
   "source": []
  },
  {
   "cell_type": "code",
   "execution_count": 60,
   "id": "8a36931d",
   "metadata": {},
   "outputs": [],
   "source": [
    "a = (1, 2, 3, 4, 5, \"\")"
   ]
  },
  {
   "cell_type": "code",
   "execution_count": 61,
   "id": "43039fef",
   "metadata": {},
   "outputs": [
    {
     "name": "stdout",
     "output_type": "stream",
     "text": [
      "(1, 2, 3, 4, 5, 'as')\n"
     ]
    }
   ],
   "source": [
    "print(a)"
   ]
  },
  {
   "cell_type": "code",
   "execution_count": null,
   "id": "911ef194",
   "metadata": {},
   "outputs": [],
   "source": []
  }
 ],
 "metadata": {
  "kernelspec": {
   "display_name": "Python 3 (ipykernel)",
   "language": "python",
   "name": "python3"
  },
  "language_info": {
   "codemirror_mode": {
    "name": "ipython",
    "version": 3
   },
   "file_extension": ".py",
   "mimetype": "text/x-python",
   "name": "python",
   "nbconvert_exporter": "python",
   "pygments_lexer": "ipython3",
   "version": "3.10.12"
  }
 },
 "nbformat": 4,
 "nbformat_minor": 5
}
