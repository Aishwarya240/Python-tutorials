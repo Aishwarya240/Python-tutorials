{
 "cells": [
  {
   "cell_type": "markdown",
   "id": "bd77d2cd",
   "metadata": {},
   "source": [
    "# Python tutorial"
   ]
  },
  {
   "cell_type": "code",
   "execution_count": 1,
   "id": "fd65ef2d",
   "metadata": {},
   "outputs": [
    {
     "name": "stdout",
     "output_type": "stream",
     "text": [
      "hello world\n"
     ]
    }
   ],
   "source": [
    "print(\"hello world\")"
   ]
  },
  {
   "cell_type": "markdown",
   "id": "aff1ffc6",
   "metadata": {},
   "source": [
    "### declaring variable\n",
    "- string variable declaring\n",
    "- integer variable declaring\n",
    "- floating variable declaring\n",
    "- boolean variable declaring"
   ]
  },
  {
   "cell_type": "code",
   "execution_count": 6,
   "id": "705c1767",
   "metadata": {},
   "outputs": [],
   "source": [
    "a=\"hello\"\n",
    "b=\"world\""
   ]
  },
  {
   "cell_type": "code",
   "execution_count": 7,
   "id": "a08ff599",
   "metadata": {},
   "outputs": [
    {
     "name": "stdout",
     "output_type": "stream",
     "text": [
      "hello world\n"
     ]
    }
   ],
   "source": [
    "print(a,b)"
   ]
  },
  {
   "cell_type": "code",
   "execution_count": 8,
   "id": "710c91ae",
   "metadata": {},
   "outputs": [],
   "source": [
    "a = 3 \n",
    "b = 5"
   ]
  },
  {
   "cell_type": "code",
   "execution_count": 9,
   "id": "7e3904a9",
   "metadata": {},
   "outputs": [
    {
     "name": "stdout",
     "output_type": "stream",
     "text": [
      "3 5\n"
     ]
    }
   ],
   "source": [
    "print(a,b)"
   ]
  },
  {
   "cell_type": "code",
   "execution_count": 10,
   "id": "a5978da8",
   "metadata": {},
   "outputs": [],
   "source": [
    "a = 3.4\n",
    "b = 2.0"
   ]
  },
  {
   "cell_type": "code",
   "execution_count": 11,
   "id": "51056b6f",
   "metadata": {},
   "outputs": [
    {
     "name": "stdout",
     "output_type": "stream",
     "text": [
      "3.4 2.0\n"
     ]
    }
   ],
   "source": [
    "print(a,b)"
   ]
  },
  {
   "cell_type": "code",
   "execution_count": 12,
   "id": "147f58da",
   "metadata": {},
   "outputs": [],
   "source": [
    " a = True\n",
    " b = False   "
   ]
  },
  {
   "cell_type": "code",
   "execution_count": 13,
   "id": "79e547a0",
   "metadata": {},
   "outputs": [
    {
     "name": "stdout",
     "output_type": "stream",
     "text": [
      "True False\n"
     ]
    }
   ],
   "source": [
    "print(a,b)"
   ]
  },
  {
   "cell_type": "code",
   "execution_count": null,
   "id": "f221ebb9",
   "metadata": {},
   "outputs": [],
   "source": []
  }
 ],
 "metadata": {
  "kernelspec": {
   "display_name": "Python 3 (ipykernel)",
   "language": "python",
   "name": "python3"
  },
  "language_info": {
   "codemirror_mode": {
    "name": "ipython",
    "version": 3
   },
   "file_extension": ".py",
   "mimetype": "text/x-python",
   "name": "python",
   "nbconvert_exporter": "python",
   "pygments_lexer": "ipython3",
   "version": "3.10.12"
  }
 },
 "nbformat": 4,
 "nbformat_minor": 5
}
