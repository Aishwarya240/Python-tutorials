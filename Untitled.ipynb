{
 "cells": [
  {
   "cell_type": "markdown",
   "id": "37e5000f",
   "metadata": {},
   "source": [
    "# Python tutorial"
   ]
  },
  {
   "cell_type": "code",
   "execution_count": 1,
   "id": "526a2e55",
   "metadata": {},
   "outputs": [
    {
     "name": "stdout",
     "output_type": "stream",
     "text": [
      "hello world\n"
     ]
    }
   ],
   "source": [
    "print(\"hello world\")"
   ]
  },
  {
   "cell_type": "markdown",
   "id": "eb504ee6",
   "metadata": {},
   "source": [
    "### declaring variable\n",
    "- string variable declaring\n",
    "- integer variable declaring\n",
    "- floating variable declaring\n",
    "- boolean variable declaring"
   ]
  },
  {
   "cell_type": "code",
   "execution_count": 2,
   "id": "159ea570",
   "metadata": {},
   "outputs": [],
   "source": [
    "a=\"hello\"\n",
    "b=\"world\""
   ]
  },
  {
   "cell_type": "code",
   "execution_count": 3,
   "id": "b1199451",
   "metadata": {},
   "outputs": [
    {
     "name": "stdout",
     "output_type": "stream",
     "text": [
      "hello world\n"
     ]
    }
   ],
   "source": [
    "print(a,b)"
   ]
  },
  {
   "cell_type": "code",
   "execution_count": 4,
   "id": "42496417",
   "metadata": {},
   "outputs": [],
   "source": [
    "a = 3 \n",
    "b = 5"
   ]
  },
  {
   "cell_type": "code",
   "execution_count": 5,
   "id": "4b27fa05",
   "metadata": {},
   "outputs": [
    {
     "name": "stdout",
     "output_type": "stream",
     "text": [
      "3 5\n"
     ]
    }
   ],
   "source": [
    "print(a,b)"
   ]
  },
  {
   "cell_type": "code",
   "execution_count": 6,
   "id": "f3acf07d",
   "metadata": {},
   "outputs": [],
   "source": [
    "a = 3.4\n",
    "b = 2.0"
   ]
  },
  {
   "cell_type": "code",
   "execution_count": 7,
   "id": "08b3f2f1",
   "metadata": {},
   "outputs": [
    {
     "name": "stdout",
     "output_type": "stream",
     "text": [
      "3.4 2.0\n"
     ]
    }
   ],
   "source": [
    "print(a,b)"
   ]
  },
  {
   "cell_type": "code",
   "execution_count": 8,
   "id": "34346b4a",
   "metadata": {},
   "outputs": [],
   "source": [
    " a = True\n",
    " b = False   "
   ]
  },
  {
   "cell_type": "code",
   "execution_count": 9,
   "id": "b3ad8ab7",
   "metadata": {},
   "outputs": [
    {
     "name": "stdout",
     "output_type": "stream",
     "text": [
      "True False\n"
     ]
    }
   ],
   "source": [
    "print(a,b)"
   ]
  },
  {
   "cell_type": "markdown",
   "id": "40ea80cc",
   "metadata": {},
   "source": [
    "### copying variable values "
   ]
  },
  {
   "cell_type": "code",
   "execution_count": 10,
   "id": "f67ef222",
   "metadata": {},
   "outputs": [],
   "source": [
    "a = 10\n",
    "b = a"
   ]
  },
  {
   "cell_type": "code",
   "execution_count": 11,
   "id": "c96849c7",
   "metadata": {},
   "outputs": [
    {
     "name": "stdout",
     "output_type": "stream",
     "text": [
      "10 10\n"
     ]
    }
   ],
   "source": [
    "print(a,b)"
   ]
  },
  {
   "cell_type": "code",
   "execution_count": 12,
   "id": "12f3daba",
   "metadata": {},
   "outputs": [],
   "source": [
    "a = 11\n",
    "\n"
   ]
  },
  {
   "cell_type": "code",
   "execution_count": 13,
   "id": "9aa79b68",
   "metadata": {},
   "outputs": [
    {
     "name": "stdout",
     "output_type": "stream",
     "text": [
      "11 10\n"
     ]
    }
   ],
   "source": [
    "print(a,b)"
   ]
  },
  {
   "cell_type": "code",
   "execution_count": 14,
   "id": "a32e9e34",
   "metadata": {},
   "outputs": [],
   "source": [
    "a = \"hello\"\n",
    "b = a"
   ]
  },
  {
   "cell_type": "code",
   "execution_count": 15,
   "id": "c76fd8d3",
   "metadata": {},
   "outputs": [
    {
     "name": "stdout",
     "output_type": "stream",
     "text": [
      "hello hello\n"
     ]
    }
   ],
   "source": [
    "print(a,b)"
   ]
  },
  {
   "cell_type": "code",
   "execution_count": 16,
   "id": "31fc2440",
   "metadata": {},
   "outputs": [],
   "source": [
    "a =\"world\""
   ]
  },
  {
   "cell_type": "code",
   "execution_count": 17,
   "id": "ac95923a",
   "metadata": {},
   "outputs": [
    {
     "name": "stdout",
     "output_type": "stream",
     "text": [
      "world hello\n"
     ]
    }
   ],
   "source": [
    "print(a,b)"
   ]
  },
  {
   "cell_type": "markdown",
   "id": "abddc89f",
   "metadata": {},
   "source": [
    "### Data structures in python \n",
    "- List \n",
    "- Tuple\n",
    "- Set\n",
    "- Dictionary\n"
   ]
  },
  {
   "cell_type": "markdown",
   "id": "4a9cf2cb",
   "metadata": {},
   "source": [
    "#### List"
   ]
  },
  {
   "cell_type": "code",
   "execution_count": 82,
   "id": "30b4bc6d",
   "metadata": {},
   "outputs": [],
   "source": [
    " a = [1, 2, 3, 4, 5, 6, 7, 8, 9, 10]"
   ]
  },
  {
   "cell_type": "code",
   "execution_count": 83,
   "id": "1dd92339",
   "metadata": {},
   "outputs": [
    {
     "name": "stdout",
     "output_type": "stream",
     "text": [
      "[1, 2, 3, 4, 5, 6, 7, 8, 9, 10]\n"
     ]
    }
   ],
   "source": [
    "print(a)"
   ]
  },
  {
   "cell_type": "code",
   "execution_count": 20,
   "id": "09e09d8e",
   "metadata": {},
   "outputs": [],
   "source": [
    "b = [\"cat\", \"dog\", \"peacock\"]"
   ]
  },
  {
   "cell_type": "code",
   "execution_count": 21,
   "id": "973ad9a1",
   "metadata": {},
   "outputs": [
    {
     "name": "stdout",
     "output_type": "stream",
     "text": [
      "['cat', 'dog', 'peacock']\n"
     ]
    }
   ],
   "source": [
    "print(b)"
   ]
  },
  {
   "cell_type": "code",
   "execution_count": 22,
   "id": "f2ba81fd",
   "metadata": {},
   "outputs": [
    {
     "name": "stdout",
     "output_type": "stream",
     "text": [
      "5\n"
     ]
    }
   ],
   "source": [
    "print(a[4])"
   ]
  },
  {
   "cell_type": "code",
   "execution_count": 23,
   "id": "3a83d0a7",
   "metadata": {},
   "outputs": [
    {
     "name": "stdout",
     "output_type": "stream",
     "text": [
      "dog\n"
     ]
    }
   ],
   "source": [
    "print(b[1])\n"
   ]
  },
  {
   "cell_type": "code",
   "execution_count": 24,
   "id": "b1f59be5",
   "metadata": {},
   "outputs": [
    {
     "name": "stdout",
     "output_type": "stream",
     "text": [
      "10\n"
     ]
    }
   ],
   "source": [
    "print(len(a))"
   ]
  },
  {
   "cell_type": "code",
   "execution_count": 25,
   "id": "b6a6e9e6",
   "metadata": {},
   "outputs": [
    {
     "name": "stdout",
     "output_type": "stream",
     "text": [
      "3\n"
     ]
    }
   ],
   "source": [
    "print(len(b))"
   ]
  },
  {
   "cell_type": "code",
   "execution_count": 26,
   "id": "f35ddf4c",
   "metadata": {},
   "outputs": [
    {
     "name": "stdout",
     "output_type": "stream",
     "text": [
      "[1, 2, 3, 4]\n"
     ]
    }
   ],
   "source": [
    "print(a[0:4])"
   ]
  },
  {
   "cell_type": "code",
   "execution_count": 27,
   "id": "6f949630",
   "metadata": {},
   "outputs": [
    {
     "name": "stdout",
     "output_type": "stream",
     "text": [
      "[2, 3, 4, 5]\n"
     ]
    }
   ],
   "source": [
    "print(a[1:5])"
   ]
  },
  {
   "cell_type": "code",
   "execution_count": 28,
   "id": "550aafe6",
   "metadata": {},
   "outputs": [
    {
     "name": "stdout",
     "output_type": "stream",
     "text": [
      "['dog', 'peacock']\n"
     ]
    }
   ],
   "source": [
    "print(b[1:3])"
   ]
  },
  {
   "cell_type": "code",
   "execution_count": 29,
   "id": "b2b55bc5",
   "metadata": {},
   "outputs": [
    {
     "name": "stdout",
     "output_type": "stream",
     "text": [
      "[10, 9, 8, 7, 6, 5, 4, 3, 2, 1]\n"
     ]
    }
   ],
   "source": [
    "print(a[::-1])"
   ]
  },
  {
   "cell_type": "code",
   "execution_count": 30,
   "id": "3363881c",
   "metadata": {},
   "outputs": [
    {
     "name": "stdout",
     "output_type": "stream",
     "text": [
      "10\n"
     ]
    }
   ],
   "source": [
    "print(a[-1])"
   ]
  },
  {
   "cell_type": "code",
   "execution_count": 31,
   "id": "d8f46b14",
   "metadata": {},
   "outputs": [
    {
     "name": "stdout",
     "output_type": "stream",
     "text": [
      "9\n"
     ]
    }
   ],
   "source": [
    "print(a[-2])"
   ]
  },
  {
   "cell_type": "code",
   "execution_count": 37,
   "id": "b2bebb59",
   "metadata": {},
   "outputs": [
    {
     "name": "stdout",
     "output_type": "stream",
     "text": [
      "peacock\n"
     ]
    }
   ],
   "source": [
    "print(b[-1])"
   ]
  },
  {
   "cell_type": "code",
   "execution_count": 40,
   "id": "1ba3381c",
   "metadata": {},
   "outputs": [
    {
     "name": "stdout",
     "output_type": "stream",
     "text": [
      "55\n"
     ]
    }
   ],
   "source": [
    "print(sum(a))"
   ]
  },
  {
   "cell_type": "code",
   "execution_count": 42,
   "id": "caa74d78",
   "metadata": {},
   "outputs": [
    {
     "name": "stdout",
     "output_type": "stream",
     "text": [
      "15\n"
     ]
    }
   ],
   "source": [
    "print(sum(a[:5]))"
   ]
  },
  {
   "cell_type": "code",
   "execution_count": 43,
   "id": "8613bb27",
   "metadata": {},
   "outputs": [
    {
     "name": "stdout",
     "output_type": "stream",
     "text": [
      "10\n"
     ]
    }
   ],
   "source": [
    "print(max(a))"
   ]
  },
  {
   "cell_type": "code",
   "execution_count": 46,
   "id": "2e2f9910",
   "metadata": {},
   "outputs": [
    {
     "name": "stdout",
     "output_type": "stream",
     "text": [
      "1\n"
     ]
    }
   ],
   "source": [
    "print(min(a))"
   ]
  },
  {
   "cell_type": "code",
   "execution_count": 48,
   "id": "022973e8",
   "metadata": {},
   "outputs": [
    {
     "name": "stdout",
     "output_type": "stream",
     "text": [
      "Max value: peacock, Min value: cat\n"
     ]
    }
   ],
   "source": [
    "print(f\"Max value: {max(b)}, Min value: {min(b)}\")"
   ]
  },
  {
   "cell_type": "code",
   "execution_count": 52,
   "id": "6356b6bd",
   "metadata": {},
   "outputs": [],
   "source": [
    "# print(sum(b))\n",
    "\n",
    "# int value only"
   ]
  },
  {
   "cell_type": "code",
   "execution_count": 53,
   "id": "5c780e1a",
   "metadata": {},
   "outputs": [
    {
     "name": "stdout",
     "output_type": "stream",
     "text": [
      "<class 'str'>\n"
     ]
    }
   ],
   "source": [
    "print(type(b[0]))"
   ]
  },
  {
   "cell_type": "code",
   "execution_count": 57,
   "id": "22c4b50f",
   "metadata": {},
   "outputs": [],
   "source": [
    "# multiple datatype list\n",
    "\n",
    "c = [1, 2, 3, \"cat\", \"dog\", 4, 5, 2.467, 4.56]"
   ]
  },
  {
   "cell_type": "code",
   "execution_count": 56,
   "id": "a14afe2a",
   "metadata": {},
   "outputs": [
    {
     "name": "stdout",
     "output_type": "stream",
     "text": [
      "[1, 2, 3, 'cat', 'dog', 4, 5, 2.467, 4.56]\n"
     ]
    }
   ],
   "source": [
    "print(c)"
   ]
  },
  {
   "cell_type": "code",
   "execution_count": 66,
   "id": "be9c7597",
   "metadata": {},
   "outputs": [],
   "source": [
    "# merging 2 lists a, b\n",
    "d = [a, b]"
   ]
  },
  {
   "cell_type": "code",
   "execution_count": 67,
   "id": "dc05a264",
   "metadata": {},
   "outputs": [
    {
     "name": "stdout",
     "output_type": "stream",
     "text": [
      "[[1, 2, 3, 4, 5, 6, 7, 8, 9, 10], ['cat', 'dog', 'peacock']]\n"
     ]
    }
   ],
   "source": [
    "print(d)"
   ]
  },
  {
   "cell_type": "code",
   "execution_count": 68,
   "id": "37f14aae",
   "metadata": {},
   "outputs": [
    {
     "name": "stdout",
     "output_type": "stream",
     "text": [
      "[1, 2, 3, 4, 5, 6, 7, 8, 9, 10]\n"
     ]
    }
   ],
   "source": [
    "print(d[0])"
   ]
  },
  {
   "cell_type": "code",
   "execution_count": 69,
   "id": "cd8e643b",
   "metadata": {},
   "outputs": [
    {
     "name": "stdout",
     "output_type": "stream",
     "text": [
      "['cat', 'dog', 'peacock']\n"
     ]
    }
   ],
   "source": [
    "print(d[1])"
   ]
  },
  {
   "cell_type": "code",
   "execution_count": 70,
   "id": "01f6923e",
   "metadata": {},
   "outputs": [
    {
     "name": "stdout",
     "output_type": "stream",
     "text": [
      "1\n"
     ]
    }
   ],
   "source": [
    "print(d[0][0])"
   ]
  },
  {
   "cell_type": "code",
   "execution_count": 71,
   "id": "d661c54b",
   "metadata": {},
   "outputs": [
    {
     "name": "stdout",
     "output_type": "stream",
     "text": [
      "6\n"
     ]
    }
   ],
   "source": [
    "print(d[0][5])"
   ]
  },
  {
   "cell_type": "code",
   "execution_count": 72,
   "id": "0e9e51b0",
   "metadata": {},
   "outputs": [
    {
     "name": "stdout",
     "output_type": "stream",
     "text": [
      "dog\n"
     ]
    }
   ],
   "source": [
    "print(d[1][1])"
   ]
  },
  {
   "cell_type": "code",
   "execution_count": 73,
   "id": "9130d7b2",
   "metadata": {},
   "outputs": [
    {
     "name": "stdout",
     "output_type": "stream",
     "text": [
      "[1, 2, 3, 4, 5, 6, 7, 8, 9, 10, 'cat', 'dog', 'peacock']\n"
     ]
    }
   ],
   "source": [
    "print(a+b)"
   ]
  },
  {
   "cell_type": "code",
   "execution_count": 86,
   "id": "3beaad24",
   "metadata": {},
   "outputs": [],
   "source": [
    "a = [1, 2, 3]\n",
    "a.append([4, 5])"
   ]
  },
  {
   "cell_type": "code",
   "execution_count": 87,
   "id": "3aeb3a42",
   "metadata": {},
   "outputs": [
    {
     "name": "stdout",
     "output_type": "stream",
     "text": [
      "[1, 2, 3, [4, 5]]\n"
     ]
    }
   ],
   "source": [
    "print(a)"
   ]
  },
  {
   "cell_type": "code",
   "execution_count": 88,
   "id": "350ee448",
   "metadata": {},
   "outputs": [
    {
     "data": {
      "text/plain": [
       "[4, 5]"
      ]
     },
     "execution_count": 88,
     "metadata": {},
     "output_type": "execute_result"
    }
   ],
   "source": [
    "a[3]"
   ]
  },
  {
   "cell_type": "code",
   "execution_count": 95,
   "id": "743e45b4",
   "metadata": {},
   "outputs": [],
   "source": [
    "a = [2, 3, 4, 5] \n",
    "b = [6, 7, 8, 9]\n",
    "a.append(b)"
   ]
  },
  {
   "cell_type": "code",
   "execution_count": 96,
   "id": "c73ed1ff",
   "metadata": {},
   "outputs": [
    {
     "name": "stdout",
     "output_type": "stream",
     "text": [
      "[2, 3, 4, 5, [6, 7, 8, 9]]\n"
     ]
    }
   ],
   "source": [
    "print(a)"
   ]
  },
  {
   "cell_type": "code",
   "execution_count": 97,
   "id": "8c3b3d11",
   "metadata": {},
   "outputs": [
    {
     "name": "stdout",
     "output_type": "stream",
     "text": [
      "[2, 3, 4, 5, 6, 7, 8, 9]\n"
     ]
    }
   ],
   "source": [
    "\n",
    "a = [2, 3, 4, 5] \n",
    "b = [6, 7, 8, 9]\n",
    "print(a+b)"
   ]
  },
  {
   "cell_type": "code",
   "execution_count": 98,
   "id": "7aab7cba",
   "metadata": {},
   "outputs": [
    {
     "name": "stdout",
     "output_type": "stream",
     "text": [
      "[[2, 3, 4, 5], [6, 7, 8, 9]]\n"
     ]
    }
   ],
   "source": [
    "a = [2, 3, 4, 5] \n",
    "b = [6, 7, 8, 9]\n",
    "print([a, b])"
   ]
  },
  {
   "cell_type": "code",
   "execution_count": 102,
   "id": "2710202b",
   "metadata": {},
   "outputs": [],
   "source": [
    "a = [2, 3, 4, 5] \n",
    "a.append(11)"
   ]
  },
  {
   "cell_type": "code",
   "execution_count": 103,
   "id": "b4fbf158",
   "metadata": {},
   "outputs": [
    {
     "data": {
      "text/plain": [
       "[2, 3, 4, 5, 11]"
      ]
     },
     "execution_count": 103,
     "metadata": {},
     "output_type": "execute_result"
    }
   ],
   "source": [
    "a"
   ]
  },
  {
   "cell_type": "code",
   "execution_count": 104,
   "id": "bee43b11",
   "metadata": {},
   "outputs": [],
   "source": [
    "a.append(\"dog\")\n"
   ]
  },
  {
   "cell_type": "code",
   "execution_count": 105,
   "id": "9bc0deac",
   "metadata": {},
   "outputs": [
    {
     "name": "stdout",
     "output_type": "stream",
     "text": [
      "[2, 3, 4, 5, 11, 'dog']\n"
     ]
    }
   ],
   "source": [
    "print(a)"
   ]
  },
  {
   "cell_type": "markdown",
   "id": "2fb445ce",
   "metadata": {},
   "source": [
    "##### tuple"
   ]
  },
  {
   "cell_type": "code",
   "execution_count": 106,
   "id": "35ab8bf1",
   "metadata": {},
   "outputs": [],
   "source": [
    "a = (1, 2, 3, 4, 5)"
   ]
  },
  {
   "cell_type": "code",
   "execution_count": 107,
   "id": "60e91510",
   "metadata": {},
   "outputs": [
    {
     "name": "stdout",
     "output_type": "stream",
     "text": [
      "(1, 2, 3, 4, 5)\n"
     ]
    }
   ],
   "source": [
    "print(a)"
   ]
  },
  {
   "cell_type": "code",
   "execution_count": 109,
   "id": "52c89cb7",
   "metadata": {},
   "outputs": [],
   "source": [
    "# a.append(11)"
   ]
  },
  {
   "cell_type": "code",
   "execution_count": 110,
   "id": "d2981746",
   "metadata": {},
   "outputs": [
    {
     "name": "stdout",
     "output_type": "stream",
     "text": [
      "15\n"
     ]
    }
   ],
   "source": [
    "print(sum(a))"
   ]
  },
  {
   "cell_type": "code",
   "execution_count": 111,
   "id": "a63107ba",
   "metadata": {},
   "outputs": [
    {
     "name": "stdout",
     "output_type": "stream",
     "text": [
      "5 1\n"
     ]
    }
   ],
   "source": [
    "print(max(a),min(a))"
   ]
  },
  {
   "cell_type": "code",
   "execution_count": 112,
   "id": "b56fe58f",
   "metadata": {},
   "outputs": [],
   "source": [
    "a = (0, 1, 2)\n",
    "b = (3, 4, 5)"
   ]
  },
  {
   "cell_type": "code",
   "execution_count": 113,
   "id": "78516045",
   "metadata": {},
   "outputs": [
    {
     "name": "stdout",
     "output_type": "stream",
     "text": [
      "(0, 1, 2, 3, 4, 5)\n"
     ]
    }
   ],
   "source": [
    "print(a+b)"
   ]
  },
  {
   "cell_type": "code",
   "execution_count": 114,
   "id": "0d237714",
   "metadata": {},
   "outputs": [],
   "source": [
    "# list to tuple\n",
    "a = [2, 4 , 5]\n",
    "b = tuple(a)"
   ]
  },
  {
   "cell_type": "code",
   "execution_count": 115,
   "id": "aa821067",
   "metadata": {},
   "outputs": [
    {
     "name": "stdout",
     "output_type": "stream",
     "text": [
      "(2, 4, 5) <class 'tuple'>\n"
     ]
    }
   ],
   "source": [
    "print(b, type(b))"
   ]
  },
  {
   "cell_type": "code",
   "execution_count": 117,
   "id": "6f77c875",
   "metadata": {},
   "outputs": [],
   "source": [
    "# tuple to list\n",
    "a = (2, 4, 5)\n",
    "b = list(a)"
   ]
  },
  {
   "cell_type": "code",
   "execution_count": null,
   "id": "f7a5068e",
   "metadata": {},
   "outputs": [],
   "source": [
    "print(b, tupe)"
   ]
  }
 ],
 "metadata": {
  "kernelspec": {
   "display_name": "Python 3 (ipykernel)",
   "language": "python",
   "name": "python3"
  },
  "language_info": {
   "codemirror_mode": {
    "name": "ipython",
    "version": 3
   },
   "file_extension": ".py",
   "mimetype": "text/x-python",
   "name": "python",
   "nbconvert_exporter": "python",
   "pygments_lexer": "ipython3",
   "version": "3.10.12"
  }
 },
 "nbformat": 4,
 "nbformat_minor": 5
}
