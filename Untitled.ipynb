{
 "cells": [
  {
   "cell_type": "markdown",
   "id": "37e5000f",
   "metadata": {},
   "source": [
    "# Python tutorial"
   ]
  },
  {
   "cell_type": "code",
   "execution_count": 1,
   "id": "526a2e55",
   "metadata": {},
   "outputs": [
    {
     "name": "stdout",
     "output_type": "stream",
     "text": [
      "hello world\n"
     ]
    }
   ],
   "source": [
    "print(\"hello world\")"
   ]
  },
  {
   "cell_type": "markdown",
   "id": "eb504ee6",
   "metadata": {},
   "source": [
    "### declaring variable\n",
    "- string variable declaring\n",
    "- integer variable declaring\n",
    "- floating variable declaring\n",
    "- boolean variable declaring"
   ]
  },
  {
   "cell_type": "code",
   "execution_count": 2,
   "id": "159ea570",
   "metadata": {},
   "outputs": [],
   "source": [
    "a=\"hello\"\n",
    "b=\"world\""
   ]
  },
  {
   "cell_type": "code",
   "execution_count": 3,
   "id": "b1199451",
   "metadata": {},
   "outputs": [
    {
     "name": "stdout",
     "output_type": "stream",
     "text": [
      "hello world\n"
     ]
    }
   ],
   "source": [
    "print(a,b)"
   ]
  },
  {
   "cell_type": "code",
   "execution_count": 4,
   "id": "42496417",
   "metadata": {},
   "outputs": [],
   "source": [
    "a = 3 \n",
    "b = 5"
   ]
  },
  {
   "cell_type": "code",
   "execution_count": 5,
   "id": "4b27fa05",
   "metadata": {},
   "outputs": [
    {
     "name": "stdout",
     "output_type": "stream",
     "text": [
      "3 5\n"
     ]
    }
   ],
   "source": [
    "print(a,b)"
   ]
  },
  {
   "cell_type": "code",
   "execution_count": 6,
   "id": "f3acf07d",
   "metadata": {},
   "outputs": [],
   "source": [
    "a = 3.4\n",
    "b = 2.0"
   ]
  },
  {
   "cell_type": "code",
   "execution_count": 7,
   "id": "08b3f2f1",
   "metadata": {},
   "outputs": [
    {
     "name": "stdout",
     "output_type": "stream",
     "text": [
      "3.4 2.0\n"
     ]
    }
   ],
   "source": [
    "print(a,b)"
   ]
  },
  {
   "cell_type": "code",
   "execution_count": 8,
   "id": "34346b4a",
   "metadata": {},
   "outputs": [],
   "source": [
    " a = True\n",
    " b = False   "
   ]
  },
  {
   "cell_type": "code",
   "execution_count": 9,
   "id": "b3ad8ab7",
   "metadata": {},
   "outputs": [
    {
     "name": "stdout",
     "output_type": "stream",
     "text": [
      "True False\n"
     ]
    }
   ],
   "source": [
    "print(a,b)"
   ]
  },
  {
   "cell_type": "markdown",
   "id": "40ea80cc",
   "metadata": {},
   "source": [
    "### copying variable values "
   ]
  },
  {
   "cell_type": "code",
   "execution_count": 10,
   "id": "f67ef222",
   "metadata": {},
   "outputs": [],
   "source": [
    "a = 10\n",
    "b = a"
   ]
  },
  {
   "cell_type": "code",
   "execution_count": 11,
   "id": "c96849c7",
   "metadata": {},
   "outputs": [
    {
     "name": "stdout",
     "output_type": "stream",
     "text": [
      "10 10\n"
     ]
    }
   ],
   "source": [
    "print(a,b)"
   ]
  },
  {
   "cell_type": "code",
   "execution_count": 12,
   "id": "12f3daba",
   "metadata": {},
   "outputs": [],
   "source": [
    "a = 11\n",
    "\n"
   ]
  },
  {
   "cell_type": "code",
   "execution_count": 13,
   "id": "9aa79b68",
   "metadata": {},
   "outputs": [
    {
     "name": "stdout",
     "output_type": "stream",
     "text": [
      "11 10\n"
     ]
    }
   ],
   "source": [
    "print(a,b)"
   ]
  },
  {
   "cell_type": "code",
   "execution_count": 14,
   "id": "a32e9e34",
   "metadata": {},
   "outputs": [],
   "source": [
    "a = \"hello\"\n",
    "b = a"
   ]
  },
  {
   "cell_type": "code",
   "execution_count": 15,
   "id": "c76fd8d3",
   "metadata": {},
   "outputs": [
    {
     "name": "stdout",
     "output_type": "stream",
     "text": [
      "hello hello\n"
     ]
    }
   ],
   "source": [
    "print(a,b)"
   ]
  },
  {
   "cell_type": "code",
   "execution_count": 16,
   "id": "31fc2440",
   "metadata": {},
   "outputs": [],
   "source": [
    "a =\"world\""
   ]
  },
  {
   "cell_type": "code",
   "execution_count": 17,
   "id": "ac95923a",
   "metadata": {},
   "outputs": [
    {
     "name": "stdout",
     "output_type": "stream",
     "text": [
      "world hello\n"
     ]
    }
   ],
   "source": [
    "print(a,b)"
   ]
  },
  {
   "cell_type": "markdown",
   "id": "abddc89f",
   "metadata": {},
   "source": [
    "### Data structures in python \n",
    "- List \n",
    "- Tuple\n",
    "- Set\n",
    "- Dictionary\n"
   ]
  },
  {
   "cell_type": "markdown",
   "id": "760c5587",
   "metadata": {},
   "source": [
    "#### List"
   ]
  },
  {
   "cell_type": "code",
   "execution_count": 82,
   "id": "30b4bc6d",
   "metadata": {},
   "outputs": [],
   "source": [
    " a = [1, 2, 3, 4, 5, 6, 7, 8, 9, 10]"
   ]
  },
  {
   "cell_type": "code",
   "execution_count": 83,
   "id": "1dd92339",
   "metadata": {},
   "outputs": [
    {
     "name": "stdout",
     "output_type": "stream",
     "text": [
      "[1, 2, 3, 4, 5, 6, 7, 8, 9, 10]\n"
     ]
    }
   ],
   "source": [
    "print(a)"
   ]
  },
  {
   "cell_type": "code",
   "execution_count": 20,
   "id": "09e09d8e",
   "metadata": {},
   "outputs": [],
   "source": [
    "b = [\"cat\", \"dog\", \"peacock\"]"
   ]
  },
  {
   "cell_type": "code",
   "execution_count": 21,
   "id": "973ad9a1",
   "metadata": {},
   "outputs": [
    {
     "name": "stdout",
     "output_type": "stream",
     "text": [
      "['cat', 'dog', 'peacock']\n"
     ]
    }
   ],
   "source": [
    "print(b)"
   ]
  },
  {
   "cell_type": "code",
   "execution_count": 22,
   "id": "f2ba81fd",
   "metadata": {},
   "outputs": [
    {
     "name": "stdout",
     "output_type": "stream",
     "text": [
      "5\n"
     ]
    }
   ],
   "source": [
    "print(a[4])"
   ]
  },
  {
   "cell_type": "code",
   "execution_count": 23,
   "id": "3a83d0a7",
   "metadata": {},
   "outputs": [
    {
     "name": "stdout",
     "output_type": "stream",
     "text": [
      "dog\n"
     ]
    }
   ],
   "source": [
    "print(b[1])\n"
   ]
  },
  {
   "cell_type": "code",
   "execution_count": 24,
   "id": "b1f59be5",
   "metadata": {},
   "outputs": [
    {
     "name": "stdout",
     "output_type": "stream",
     "text": [
      "10\n"
     ]
    }
   ],
   "source": [
    "print(len(a))"
   ]
  },
  {
   "cell_type": "code",
   "execution_count": 25,
   "id": "b6a6e9e6",
   "metadata": {},
   "outputs": [
    {
     "name": "stdout",
     "output_type": "stream",
     "text": [
      "3\n"
     ]
    }
   ],
   "source": [
    "print(len(b))"
   ]
  },
  {
   "cell_type": "code",
   "execution_count": 26,
   "id": "f35ddf4c",
   "metadata": {},
   "outputs": [
    {
     "name": "stdout",
     "output_type": "stream",
     "text": [
      "[1, 2, 3, 4]\n"
     ]
    }
   ],
   "source": [
    "print(a[0:4])"
   ]
  },
  {
   "cell_type": "code",
   "execution_count": 27,
   "id": "6f949630",
   "metadata": {},
   "outputs": [
    {
     "name": "stdout",
     "output_type": "stream",
     "text": [
      "[2, 3, 4, 5]\n"
     ]
    }
   ],
   "source": [
    "print(a[1:5])"
   ]
  },
  {
   "cell_type": "code",
   "execution_count": 28,
   "id": "550aafe6",
   "metadata": {},
   "outputs": [
    {
     "name": "stdout",
     "output_type": "stream",
     "text": [
      "['dog', 'peacock']\n"
     ]
    }
   ],
   "source": [
    "print(b[1:3])"
   ]
  },
  {
   "cell_type": "code",
   "execution_count": 29,
   "id": "b2b55bc5",
   "metadata": {},
   "outputs": [
    {
     "name": "stdout",
     "output_type": "stream",
     "text": [
      "[10, 9, 8, 7, 6, 5, 4, 3, 2, 1]\n"
     ]
    }
   ],
   "source": [
    "print(a[::-1])"
   ]
  },
  {
   "cell_type": "code",
   "execution_count": 30,
   "id": "3363881c",
   "metadata": {},
   "outputs": [
    {
     "name": "stdout",
     "output_type": "stream",
     "text": [
      "10\n"
     ]
    }
   ],
   "source": [
    "print(a[-1])"
   ]
  },
  {
   "cell_type": "code",
   "execution_count": 31,
   "id": "3fdc104d",
   "metadata": {},
   "outputs": [
    {
     "name": "stdout",
     "output_type": "stream",
     "text": [
      "9\n"
     ]
    }
   ],
   "source": [
    "print(a[-2])"
   ]
  },
  {
   "cell_type": "code",
   "execution_count": 37,
   "id": "934a05a2",
   "metadata": {},
   "outputs": [
    {
     "name": "stdout",
     "output_type": "stream",
     "text": [
      "peacock\n"
     ]
    }
   ],
   "source": [
    "print(b[-1])"
   ]
  },
  {
   "cell_type": "code",
   "execution_count": 40,
   "id": "1aa3710a",
   "metadata": {},
   "outputs": [
    {
     "name": "stdout",
     "output_type": "stream",
     "text": [
      "55\n"
     ]
    }
   ],
   "source": [
    "print(sum(a))"
   ]
  },
  {
   "cell_type": "code",
   "execution_count": 42,
   "id": "3b581b7c",
   "metadata": {},
   "outputs": [
    {
     "name": "stdout",
     "output_type": "stream",
     "text": [
      "15\n"
     ]
    }
   ],
   "source": [
    "print(sum(a[:5]))"
   ]
  },
  {
   "cell_type": "code",
   "execution_count": 43,
   "id": "69390ced",
   "metadata": {},
   "outputs": [
    {
     "name": "stdout",
     "output_type": "stream",
     "text": [
      "10\n"
     ]
    }
   ],
   "source": [
    "print(max(a))"
   ]
  },
  {
   "cell_type": "code",
   "execution_count": 46,
   "id": "55e67fe1",
   "metadata": {},
   "outputs": [
    {
     "name": "stdout",
     "output_type": "stream",
     "text": [
      "1\n"
     ]
    }
   ],
   "source": [
    "print(min(a))"
   ]
  },
  {
   "cell_type": "code",
   "execution_count": 48,
   "id": "9da92f0a",
   "metadata": {},
   "outputs": [
    {
     "name": "stdout",
     "output_type": "stream",
     "text": [
      "Max value: peacock, Min value: cat\n"
     ]
    }
   ],
   "source": [
    "print(f\"Max value: {max(b)}, Min value: {min(b)}\")"
   ]
  },
  {
   "cell_type": "code",
   "execution_count": 52,
   "id": "7646e941",
   "metadata": {},
   "outputs": [],
   "source": [
    "# print(sum(b))\n",
    "\n",
    "# int value only"
   ]
  },
  {
   "cell_type": "code",
   "execution_count": 53,
   "id": "fd950d22",
   "metadata": {},
   "outputs": [
    {
     "name": "stdout",
     "output_type": "stream",
     "text": [
      "<class 'str'>\n"
     ]
    }
   ],
   "source": [
    "print(type(b[0]))"
   ]
  },
  {
   "cell_type": "code",
   "execution_count": 57,
   "id": "9848c4be",
   "metadata": {},
   "outputs": [],
   "source": [
    "# multiple datatype list\n",
    "\n",
    "c = [1, 2, 3, \"cat\", \"dog\", 4, 5, 2.467, 4.56]"
   ]
  },
  {
   "cell_type": "code",
   "execution_count": 56,
   "id": "d636960e",
   "metadata": {},
   "outputs": [
    {
     "name": "stdout",
     "output_type": "stream",
     "text": [
      "[1, 2, 3, 'cat', 'dog', 4, 5, 2.467, 4.56]\n"
     ]
    }
   ],
   "source": [
    "print(c)"
   ]
  },
  {
   "cell_type": "code",
   "execution_count": 66,
   "id": "7942db96",
   "metadata": {},
   "outputs": [],
   "source": [
    "# merging 2 lists a, b\n",
    "d = [a, b]"
   ]
  },
  {
   "cell_type": "code",
   "execution_count": 67,
   "id": "895d82aa",
   "metadata": {},
   "outputs": [
    {
     "name": "stdout",
     "output_type": "stream",
     "text": [
      "[[1, 2, 3, 4, 5, 6, 7, 8, 9, 10], ['cat', 'dog', 'peacock']]\n"
     ]
    }
   ],
   "source": [
    "print(d)"
   ]
  },
  {
   "cell_type": "code",
   "execution_count": 68,
   "id": "ac2bbcce",
   "metadata": {},
   "outputs": [
    {
     "name": "stdout",
     "output_type": "stream",
     "text": [
      "[1, 2, 3, 4, 5, 6, 7, 8, 9, 10]\n"
     ]
    }
   ],
   "source": [
    "print(d[0])"
   ]
  },
  {
   "cell_type": "code",
   "execution_count": 69,
   "id": "e35709e5",
   "metadata": {},
   "outputs": [
    {
     "name": "stdout",
     "output_type": "stream",
     "text": [
      "['cat', 'dog', 'peacock']\n"
     ]
    }
   ],
   "source": [
    "print(d[1])"
   ]
  },
  {
   "cell_type": "code",
   "execution_count": 70,
   "id": "8b01f650",
   "metadata": {},
   "outputs": [
    {
     "name": "stdout",
     "output_type": "stream",
     "text": [
      "1\n"
     ]
    }
   ],
   "source": [
    "print(d[0][0])"
   ]
  },
  {
   "cell_type": "code",
   "execution_count": 71,
   "id": "8ee86cbb",
   "metadata": {},
   "outputs": [
    {
     "name": "stdout",
     "output_type": "stream",
     "text": [
      "6\n"
     ]
    }
   ],
   "source": [
    "print(d[0][5])"
   ]
  },
  {
   "cell_type": "code",
   "execution_count": 72,
   "id": "584cc2a8",
   "metadata": {},
   "outputs": [
    {
     "name": "stdout",
     "output_type": "stream",
     "text": [
      "dog\n"
     ]
    }
   ],
   "source": [
    "print(d[1][1])"
   ]
  },
  {
   "cell_type": "code",
   "execution_count": 73,
   "id": "76951dab",
   "metadata": {},
   "outputs": [
    {
     "name": "stdout",
     "output_type": "stream",
     "text": [
      "[1, 2, 3, 4, 5, 6, 7, 8, 9, 10, 'cat', 'dog', 'peacock']\n"
     ]
    }
   ],
   "source": [
    "print(a+b)"
   ]
  },
  {
   "cell_type": "code",
   "execution_count": 86,
   "id": "51ed1cd9",
   "metadata": {},
   "outputs": [],
   "source": [
    "a = [1, 2, 3]\n",
    "a.append([4, 5])"
   ]
  },
  {
   "cell_type": "code",
   "execution_count": 87,
   "id": "730c366d",
   "metadata": {},
   "outputs": [
    {
     "name": "stdout",
     "output_type": "stream",
     "text": [
      "[1, 2, 3, [4, 5]]\n"
     ]
    }
   ],
   "source": [
    "print(a)"
   ]
  },
  {
   "cell_type": "code",
   "execution_count": 88,
   "id": "d6df1062",
   "metadata": {},
   "outputs": [
    {
     "data": {
      "text/plain": [
       "[4, 5]"
      ]
     },
     "execution_count": 88,
     "metadata": {},
     "output_type": "execute_result"
    }
   ],
   "source": [
    "a[3]"
   ]
  },
  {
   "cell_type": "code",
   "execution_count": 95,
   "id": "75733746",
   "metadata": {},
   "outputs": [],
   "source": [
    "a = [2, 3, 4, 5] \n",
    "b = [6, 7, 8, 9]\n",
    "a.append(b)"
   ]
  },
  {
   "cell_type": "code",
   "execution_count": 96,
   "id": "44860fb2",
   "metadata": {},
   "outputs": [
    {
     "name": "stdout",
     "output_type": "stream",
     "text": [
      "[2, 3, 4, 5, [6, 7, 8, 9]]\n"
     ]
    }
   ],
   "source": [
    "print(a)"
   ]
  },
  {
   "cell_type": "code",
   "execution_count": 97,
   "id": "347b679f",
   "metadata": {},
   "outputs": [
    {
     "name": "stdout",
     "output_type": "stream",
     "text": [
      "[2, 3, 4, 5, 6, 7, 8, 9]\n"
     ]
    }
   ],
   "source": [
    "\n",
    "a = [2, 3, 4, 5] \n",
    "b = [6, 7, 8, 9]\n",
    "print(a+b)"
   ]
  },
  {
   "cell_type": "code",
   "execution_count": 98,
   "id": "69dd754e",
   "metadata": {},
   "outputs": [
    {
     "name": "stdout",
     "output_type": "stream",
     "text": [
      "[[2, 3, 4, 5], [6, 7, 8, 9]]\n"
     ]
    }
   ],
   "source": [
    "a = [2, 3, 4, 5] \n",
    "b = [6, 7, 8, 9]\n",
    "print([a, b])"
   ]
  },
  {
   "cell_type": "code",
   "execution_count": 102,
   "id": "fea97cda",
   "metadata": {},
   "outputs": [],
   "source": [
    "a = [2, 3, 4, 5] \n",
    "a.append(11)"
   ]
  },
  {
   "cell_type": "code",
   "execution_count": 103,
   "id": "04a3d0e3",
   "metadata": {},
   "outputs": [
    {
     "data": {
      "text/plain": [
       "[2, 3, 4, 5, 11]"
      ]
     },
     "execution_count": 103,
     "metadata": {},
     "output_type": "execute_result"
    }
   ],
   "source": [
    "a"
   ]
  },
  {
   "cell_type": "code",
   "execution_count": 104,
   "id": "2837e1c6",
   "metadata": {},
   "outputs": [],
   "source": [
    "a.append(\"dog\")\n"
   ]
  },
  {
   "cell_type": "code",
   "execution_count": 105,
   "id": "15ba9bb5",
   "metadata": {},
   "outputs": [
    {
     "name": "stdout",
     "output_type": "stream",
     "text": [
      "[2, 3, 4, 5, 11, 'dog']\n"
     ]
    }
   ],
   "source": [
    "print(a)"
   ]
  },
  {
   "cell_type": "markdown",
   "id": "15064b6d",
   "metadata": {},
   "source": [
    "##### tuple"
   ]
  },
  {
   "cell_type": "code",
   "execution_count": 106,
   "id": "18450095",
   "metadata": {},
   "outputs": [],
   "source": [
    "a = (1, 2, 3, 4, 5)"
   ]
  },
  {
   "cell_type": "code",
   "execution_count": 107,
   "id": "bc185a12",
   "metadata": {},
   "outputs": [
    {
     "name": "stdout",
     "output_type": "stream",
     "text": [
      "(1, 2, 3, 4, 5)\n"
     ]
    }
   ],
   "source": [
    "print(a)"
   ]
  },
  {
   "cell_type": "code",
   "execution_count": 109,
   "id": "777da35d",
   "metadata": {},
   "outputs": [],
   "source": [
    "# a.append(11)"
   ]
  },
  {
   "cell_type": "code",
   "execution_count": 110,
   "id": "8cc2c322",
   "metadata": {},
   "outputs": [
    {
     "name": "stdout",
     "output_type": "stream",
     "text": [
      "15\n"
     ]
    }
   ],
   "source": [
    "print(sum(a))"
   ]
  },
  {
   "cell_type": "code",
   "execution_count": 111,
   "id": "9c471161",
   "metadata": {},
   "outputs": [
    {
     "name": "stdout",
     "output_type": "stream",
     "text": [
      "5 1\n"
     ]
    }
   ],
   "source": [
    "print(max(a),min(a))"
   ]
  },
  {
   "cell_type": "code",
   "execution_count": 112,
   "id": "cbc29189",
   "metadata": {},
   "outputs": [],
   "source": [
    "a = (0, 1, 2)\n",
    "b = (3, 4, 5)"
   ]
  },
  {
   "cell_type": "code",
   "execution_count": 113,
   "id": "a531d383",
   "metadata": {},
   "outputs": [
    {
     "name": "stdout",
     "output_type": "stream",
     "text": [
      "(0, 1, 2, 3, 4, 5)\n"
     ]
    }
   ],
   "source": [
    "print(a+b)"
   ]
  },
  {
   "cell_type": "code",
   "execution_count": 114,
   "id": "699d7d30",
   "metadata": {},
   "outputs": [],
   "source": [
    "# list to tuple\n",
    "a = [2, 4 , 5]\n",
    "b = tuple(a)"
   ]
  },
  {
   "cell_type": "code",
   "execution_count": 115,
   "id": "8c762930",
   "metadata": {},
   "outputs": [
    {
     "name": "stdout",
     "output_type": "stream",
     "text": [
      "(2, 4, 5) <class 'tuple'>\n"
     ]
    }
   ],
   "source": [
    "print(b, type(b))"
   ]
  },
  {
   "cell_type": "code",
   "execution_count": 117,
   "id": "c30803b8",
   "metadata": {},
   "outputs": [],
   "source": [
    "# tuple to list\n",
    "a = (2, 4, 5)\n",
    "b = list(a)"
   ]
  },
  {
   "cell_type": "code",
   "execution_count": 118,
   "id": "f9a55ebb",
   "metadata": {},
   "outputs": [
    {
     "name": "stdout",
     "output_type": "stream",
     "text": [
      "[2, 4, 5] <class 'list'>\n"
     ]
    }
   ],
   "source": [
    "print(b, type(b))"
   ]
  },
  {
   "cell_type": "markdown",
   "id": "0f26c280",
   "metadata": {},
   "source": [
    "#### set\n"
   ]
  },
  {
   "cell_type": "code",
   "execution_count": 119,
   "id": "66c3a9c7",
   "metadata": {},
   "outputs": [],
   "source": [
    "a = {1, 2, 3, 4}"
   ]
  },
  {
   "cell_type": "code",
   "execution_count": 120,
   "id": "c8a80ee3",
   "metadata": {},
   "outputs": [
    {
     "name": "stdout",
     "output_type": "stream",
     "text": [
      "{1, 2, 3, 4}\n"
     ]
    }
   ],
   "source": [
    "print(a)"
   ]
  },
  {
   "cell_type": "code",
   "execution_count": 121,
   "id": "1dcf967d",
   "metadata": {},
   "outputs": [],
   "source": [
    "a = {1, 1, 2, 4, 4, 3, 3, 3}"
   ]
  },
  {
   "cell_type": "code",
   "execution_count": 122,
   "id": "efa2b4cc",
   "metadata": {},
   "outputs": [
    {
     "name": "stdout",
     "output_type": "stream",
     "text": [
      "{1, 2, 3, 4}\n"
     ]
    }
   ],
   "source": [
    "print(a)"
   ]
  },
  {
   "cell_type": "code",
   "execution_count": 125,
   "id": "54552d31",
   "metadata": {},
   "outputs": [],
   "source": [
    "b = {\"dog\", \"cat\", \"cat\"}"
   ]
  },
  {
   "cell_type": "code",
   "execution_count": 127,
   "id": "f198985d",
   "metadata": {},
   "outputs": [
    {
     "name": "stdout",
     "output_type": "stream",
     "text": [
      "{'dog', 'cat'}\n"
     ]
    }
   ],
   "source": [
    "print(b)"
   ]
  },
  {
   "cell_type": "code",
   "execution_count": 128,
   "id": "b10d85d2",
   "metadata": {},
   "outputs": [],
   "source": [
    "b = {\"dog\", \"cat\", \"dog\", \"meau\", \"meau\"}"
   ]
  },
  {
   "cell_type": "code",
   "execution_count": 129,
   "id": "95f9c6ca",
   "metadata": {},
   "outputs": [
    {
     "name": "stdout",
     "output_type": "stream",
     "text": [
      "{'dog', 'cat', 'meau'}\n"
     ]
    }
   ],
   "source": [
    "print(b)"
   ]
  },
  {
   "cell_type": "code",
   "execution_count": 130,
   "id": "a6f04b08",
   "metadata": {},
   "outputs": [],
   "source": [
    "# list to set conversion\n",
    "a = [1, 1, 2, 4, \"air\", \"water\", 4]"
   ]
  },
  {
   "cell_type": "code",
   "execution_count": 131,
   "id": "31425f3f",
   "metadata": {},
   "outputs": [],
   "source": [
    "b = set(a)"
   ]
  },
  {
   "cell_type": "code",
   "execution_count": 132,
   "id": "c45dc1b0",
   "metadata": {},
   "outputs": [
    {
     "name": "stdout",
     "output_type": "stream",
     "text": [
      "{1, 2, 4, 'water', 'air'}\n"
     ]
    }
   ],
   "source": [
    "print(b)"
   ]
  },
  {
   "cell_type": "code",
   "execution_count": 133,
   "id": "a2d68b0b",
   "metadata": {},
   "outputs": [],
   "source": [
    "# set to list \n",
    "a = {1, 2, 3, 4, 4, 3}\n",
    "b = list(a)"
   ]
  },
  {
   "cell_type": "code",
   "execution_count": 134,
   "id": "357f58d7",
   "metadata": {},
   "outputs": [
    {
     "name": "stdout",
     "output_type": "stream",
     "text": [
      "[1, 2, 3, 4]\n"
     ]
    }
   ],
   "source": [
    "print(b)"
   ]
  },
  {
   "cell_type": "code",
   "execution_count": 135,
   "id": "65624188",
   "metadata": {},
   "outputs": [],
   "source": [
    "# tuple to set\n",
    "a = (1, 2, 3, 3, 2)\n",
    "b = set(a)"
   ]
  },
  {
   "cell_type": "code",
   "execution_count": 136,
   "id": "a06c6d8f",
   "metadata": {},
   "outputs": [
    {
     "name": "stdout",
     "output_type": "stream",
     "text": [
      "{1, 2, 3}\n"
     ]
    }
   ],
   "source": [
    "print(b)"
   ]
  },
  {
   "cell_type": "code",
   "execution_count": 137,
   "id": "43470337",
   "metadata": {},
   "outputs": [],
   "source": [
    "# set to tuple\n",
    "a = {1, 2, 2, 3, 4, 4}\n",
    "b = tuple(a)"
   ]
  },
  {
   "cell_type": "code",
   "execution_count": 138,
   "id": "8e0a42ff",
   "metadata": {},
   "outputs": [
    {
     "name": "stdout",
     "output_type": "stream",
     "text": [
      "(1, 2, 3, 4)\n"
     ]
    }
   ],
   "source": [
    "print(b)"
   ]
  },
  {
   "cell_type": "markdown",
   "id": "081adfc8",
   "metadata": {},
   "source": [
    "#### Dictionary\n"
   ]
  },
  {
   "cell_type": "code",
   "execution_count": 147,
   "id": "e569aa21",
   "metadata": {},
   "outputs": [],
   "source": [
    "student = {\n",
    "    \"name\": \"sid\",\n",
    "    \"roll_no\": 2\n",
    "    \n",
    "}"
   ]
  },
  {
   "cell_type": "code",
   "execution_count": 148,
   "id": "0095786b",
   "metadata": {},
   "outputs": [
    {
     "name": "stdout",
     "output_type": "stream",
     "text": [
      "{'name': 'sid', 'roll_no': 2}\n"
     ]
    }
   ],
   "source": [
    "print(student)"
   ]
  },
  {
   "cell_type": "code",
   "execution_count": 149,
   "id": "b34c6ba1",
   "metadata": {},
   "outputs": [
    {
     "name": "stdout",
     "output_type": "stream",
     "text": [
      "dict_keys(['name', 'roll_no'])\n"
     ]
    }
   ],
   "source": [
    "print(student.keys())"
   ]
  },
  {
   "cell_type": "code",
   "execution_count": 150,
   "id": "f083d372",
   "metadata": {},
   "outputs": [
    {
     "name": "stdout",
     "output_type": "stream",
     "text": [
      "dict_values(['sid', 2])\n"
     ]
    }
   ],
   "source": [
    "print(student.values())"
   ]
  },
  {
   "cell_type": "code",
   "execution_count": 158,
   "id": "cbb4bf57",
   "metadata": {},
   "outputs": [
    {
     "name": "stdout",
     "output_type": "stream",
     "text": [
      "sid\n"
     ]
    }
   ],
   "source": [
    "print(student[\"name\"])"
   ]
  },
  {
   "cell_type": "code",
   "execution_count": 159,
   "id": "1cd765ff",
   "metadata": {},
   "outputs": [
    {
     "name": "stdout",
     "output_type": "stream",
     "text": [
      "2\n"
     ]
    }
   ],
   "source": [
    "print(student[\"roll_no\"])"
   ]
  },
  {
   "cell_type": "code",
   "execution_count": 152,
   "id": "76751f3a",
   "metadata": {},
   "outputs": [],
   "source": [
    "s_1 = {\n",
    "    \"name\": \"arya\",\n",
    "    \"roll_no\" : 4,\n",
    "    \"height\":144.5\n",
    "}\n",
    "s_2 = {\n",
    "    \"name\": \"sara\",\n",
    "    \"roll_no\":9, \n",
    "    \"height\":150.99\n",
    "}"
   ]
  },
  {
   "cell_type": "code",
   "execution_count": 153,
   "id": "8c2324ac",
   "metadata": {},
   "outputs": [],
   "source": [
    "s = [s_1, s_2]"
   ]
  },
  {
   "cell_type": "code",
   "execution_count": 154,
   "id": "9a730636",
   "metadata": {},
   "outputs": [
    {
     "name": "stdout",
     "output_type": "stream",
     "text": [
      "[{'name': 'arya', 'roll_no': 4, 'height': 144.5}, {'name': 'sara', 'roll_no': 9, 'height': 150.99}]\n"
     ]
    }
   ],
   "source": [
    "print(s)"
   ]
  },
  {
   "cell_type": "code",
   "execution_count": 155,
   "id": "75f5b960",
   "metadata": {},
   "outputs": [
    {
     "name": "stdout",
     "output_type": "stream",
     "text": [
      "{'name': 'sara', 'roll_no': 9, 'height': 150.99}\n"
     ]
    }
   ],
   "source": [
    "print(s[1])"
   ]
  },
  {
   "cell_type": "code",
   "execution_count": 156,
   "id": "539ab802",
   "metadata": {},
   "outputs": [
    {
     "name": "stdout",
     "output_type": "stream",
     "text": [
      "2\n"
     ]
    }
   ],
   "source": [
    "print(len(s))"
   ]
  },
  {
   "cell_type": "code",
   "execution_count": 157,
   "id": "8c16238e",
   "metadata": {},
   "outputs": [
    {
     "name": "stdout",
     "output_type": "stream",
     "text": [
      "3\n"
     ]
    }
   ],
   "source": [
    "print(len(s_1))"
   ]
  },
  {
   "cell_type": "code",
   "execution_count": 160,
   "id": "2684fe8e",
   "metadata": {},
   "outputs": [
    {
     "name": "stdout",
     "output_type": "stream",
     "text": [
      "arya\n"
     ]
    }
   ],
   "source": [
    "print(s[0][\"name\"])"
   ]
  },
  {
   "cell_type": "code",
   "execution_count": 161,
   "id": "441ac36d",
   "metadata": {},
   "outputs": [
    {
     "name": "stdout",
     "output_type": "stream",
     "text": [
      "9\n"
     ]
    }
   ],
   "source": [
    "print(s[1][\"roll_no\"])"
   ]
  },
  {
   "cell_type": "markdown",
   "id": "d00194d7",
   "metadata": {},
   "source": [
    "## create matrics using "
   ]
  },
  {
   "cell_type": "code",
   "execution_count": 163,
   "id": "392d06ec",
   "metadata": {},
   "outputs": [
    {
     "name": "stdout",
     "output_type": "stream",
     "text": [
      "[[1, 2, 3], [4, 5, 6], [7, 8, 9]]\n"
     ]
    }
   ],
   "source": [
    "m = [[1,2,3], [4,5,6], [7,8,9]]\n",
    "print(m)"
   ]
  },
  {
   "cell_type": "code",
   "execution_count": 164,
   "id": "6d10d3bc",
   "metadata": {},
   "outputs": [
    {
     "data": {
      "text/plain": [
       "[[1, 2, 3], [4, 5, 6], [7, 8, 9], [1, 2, 3], [4, 5, 6], [7, 8, 9]]"
      ]
     },
     "execution_count": 164,
     "metadata": {},
     "output_type": "execute_result"
    }
   ],
   "source": [
    "m*2\n"
   ]
  },
  {
   "cell_type": "markdown",
   "id": "083c03d1",
   "metadata": {},
   "source": [
    "## Conditions\n",
    "- Conditional operators \n",
    "- If statement \n",
    "- If else statement "
   ]
  },
  {
   "cell_type": "code",
   "execution_count": 172,
   "id": "425bb2df",
   "metadata": {},
   "outputs": [
    {
     "data": {
      "text/plain": [
       "True"
      ]
     },
     "execution_count": 172,
     "metadata": {},
     "output_type": "execute_result"
    }
   ],
   "source": [
    "# conditional operators\n",
    "5 == 5\n"
   ]
  },
  {
   "cell_type": "code",
   "execution_count": 173,
   "id": "bc8d0f43",
   "metadata": {},
   "outputs": [
    {
     "data": {
      "text/plain": [
       "False"
      ]
     },
     "execution_count": 173,
     "metadata": {},
     "output_type": "execute_result"
    }
   ],
   "source": [
    "5 != 5"
   ]
  },
  {
   "cell_type": "code",
   "execution_count": 174,
   "id": "8287c2ed",
   "metadata": {},
   "outputs": [
    {
     "data": {
      "text/plain": [
       "False"
      ]
     },
     "execution_count": 174,
     "metadata": {},
     "output_type": "execute_result"
    }
   ],
   "source": [
    "5 ==3"
   ]
  },
  {
   "cell_type": "code",
   "execution_count": 175,
   "id": "92f2ee9e",
   "metadata": {},
   "outputs": [
    {
     "data": {
      "text/plain": [
       "True"
      ]
     },
     "execution_count": 175,
     "metadata": {},
     "output_type": "execute_result"
    }
   ],
   "source": [
    "5 != 3"
   ]
  },
  {
   "cell_type": "code",
   "execution_count": 176,
   "id": "2589b184",
   "metadata": {},
   "outputs": [
    {
     "data": {
      "text/plain": [
       "False"
      ]
     },
     "execution_count": 176,
     "metadata": {},
     "output_type": "execute_result"
    }
   ],
   "source": [
    "5 > 10"
   ]
  },
  {
   "cell_type": "code",
   "execution_count": 177,
   "id": "1d5fd083",
   "metadata": {},
   "outputs": [
    {
     "data": {
      "text/plain": [
       "True"
      ]
     },
     "execution_count": 177,
     "metadata": {},
     "output_type": "execute_result"
    }
   ],
   "source": [
    "5 < 10"
   ]
  },
  {
   "cell_type": "code",
   "execution_count": 178,
   "id": "62b07270",
   "metadata": {},
   "outputs": [
    {
     "data": {
      "text/plain": [
       "True"
      ]
     },
     "execution_count": 178,
     "metadata": {},
     "output_type": "execute_result"
    }
   ],
   "source": [
    "5 >=5"
   ]
  },
  {
   "cell_type": "code",
   "execution_count": 179,
   "id": "fae8b08e",
   "metadata": {},
   "outputs": [
    {
     "data": {
      "text/plain": [
       "False"
      ]
     },
     "execution_count": 179,
     "metadata": {},
     "output_type": "execute_result"
    }
   ],
   "source": [
    "5 >=10"
   ]
  },
  {
   "cell_type": "code",
   "execution_count": 185,
   "id": "c47c8fbd",
   "metadata": {},
   "outputs": [
    {
     "name": "stdout",
     "output_type": "stream",
     "text": [
      "hello world\n"
     ]
    }
   ],
   "source": [
    "# if statement\n",
    "if 5 < 10:\n",
    "    print(\"hello world\")"
   ]
  },
  {
   "cell_type": "code",
   "execution_count": 186,
   "id": "cd7b757d",
   "metadata": {},
   "outputs": [],
   "source": [
    "if 5 > 10:\n",
    "    print(\"hello world\")"
   ]
  },
  {
   "cell_type": "code",
   "execution_count": 189,
   "id": "e0251c8f",
   "metadata": {},
   "outputs": [
    {
     "name": "stdout",
     "output_type": "stream",
     "text": [
      "hello world\n"
     ]
    }
   ],
   "source": [
    "if 5 == 5:\n",
    "    print(\"hello world\")"
   ]
  },
  {
   "cell_type": "code",
   "execution_count": 193,
   "id": "326f3ad0",
   "metadata": {},
   "outputs": [
    {
     "name": "stdout",
     "output_type": "stream",
     "text": [
      "hello world\n"
     ]
    }
   ],
   "source": [
    "if 5 != 4:\n",
    "    print(\"hello world\")"
   ]
  },
  {
   "cell_type": "code",
   "execution_count": 190,
   "id": "8fda11df",
   "metadata": {},
   "outputs": [
    {
     "name": "stdout",
     "output_type": "stream",
     "text": [
      "hello world\n"
     ]
    }
   ],
   "source": [
    "if True: \n",
    "    print(\"hello world\")"
   ]
  },
  {
   "cell_type": "code",
   "execution_count": 191,
   "id": "ce9baae2",
   "metadata": {},
   "outputs": [],
   "source": [
    "if False:\n",
    "    print(\"hello world\")"
   ]
  },
  {
   "cell_type": "code",
   "execution_count": 194,
   "id": "bb436e7c",
   "metadata": {},
   "outputs": [
    {
     "name": "stdout",
     "output_type": "stream",
     "text": [
      "hello world\n"
     ]
    }
   ],
   "source": [
    "if 5 == 5 and 10 == 10:\n",
    "    print(\"hello world\")"
   ]
  },
  {
   "cell_type": "code",
   "execution_count": 196,
   "id": "fdec6f67",
   "metadata": {},
   "outputs": [
    {
     "name": "stdout",
     "output_type": "stream",
     "text": [
      "hello world\n"
     ]
    }
   ],
   "source": [
    "if 5 == 5 or 10 == 3:\n",
    "    print(\"hello world\")"
   ]
  },
  {
   "cell_type": "code",
   "execution_count": null,
   "id": "f8728392",
   "metadata": {},
   "outputs": [],
   "source": []
  }
 ],
 "metadata": {
  "kernelspec": {
   "display_name": "Python 3 (ipykernel)",
   "language": "python",
   "name": "python3"
  },
  "language_info": {
   "codemirror_mode": {
    "name": "ipython",
    "version": 3
   },
   "file_extension": ".py",
   "mimetype": "text/x-python",
   "name": "python",
   "nbconvert_exporter": "python",
   "pygments_lexer": "ipython3",
   "version": "3.10.12"
  }
 },
 "nbformat": 4,
 "nbformat_minor": 5
}
